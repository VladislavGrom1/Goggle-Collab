{
  "nbformat": 4,
  "nbformat_minor": 0,
  "metadata": {
    "colab": {
      "provenance": [],
      "authorship_tag": "ABX9TyMQ5Plgs9g/f6EcrRY3kXgN",
      "include_colab_link": true
    },
    "kernelspec": {
      "name": "python3",
      "display_name": "Python 3"
    },
    "language_info": {
      "name": "python"
    }
  },
  "cells": [
    {
      "cell_type": "markdown",
      "metadata": {
        "id": "view-in-github",
        "colab_type": "text"
      },
      "source": [
        "<a href=\"https://colab.research.google.com/github/VladislavGrom1/Goggle-Collab/blob/main/Lab1.ipynb\" target=\"_parent\"><img src=\"https://colab.research.google.com/assets/colab-badge.svg\" alt=\"Open In Colab\"/></a>"
      ]
    },
    {
      "cell_type": "code",
      "execution_count": null,
      "metadata": {
        "id": "l6pz7yPtv2C8"
      },
      "outputs": [],
      "source": [
        "import os\n",
        "for dirpath, _, filenames in os.walk('/content/'):\n",
        "  for filename in filenames:\n",
        "    print(os.path.join(dirpath,filename))\n",
        "!ls /content/sample_data/"
      ]
    },
    {
      "cell_type": "code",
      "source": [
        "# из библиотеки google.colab импортируем класс files\n",
        "from google.colab import files\n",
        "# создаем объект этого класса, применяем метод\n",
        "\n",
        "uploaded = files.upload()\n",
        "\n",
        "type(uploaded['test.csv'])\n",
        "\n",
        "# обратимся к ключу словаря uploaded и применим метод .decode()\n",
        "uploaded_str = uploaded['test.csv'].decode()\n",
        "\n",
        "# на выходе получаем обычную строку\n",
        "print(type(uploaded_str))\n",
        "\n",
        "# Выведем первые 35 значений.\n",
        "print(uploaded_str[:35])\n",
        "\n",
        "# Если разбить строку методом .split() по символам \\r (возврат к началу строки) и \\n (новая строка), то на выходе мы получим список.\n",
        "\n",
        "uploaded_list = uploaded_str.split('\\r\\n')\n",
        "type(uploaded_list)\n",
        "\n",
        "for i, line in enumerate(uploaded_list):\n",
        "# начнем выводить записи\n",
        "  print(line)\n",
        "  # когда дойдем до четвертой строки\n",
        "  if i == 3:\n",
        "    # прерывание\n",
        "    break\n",
        "    \n"
      ],
      "metadata": {
        "id": "gmD48CoeAaVE"
      },
      "execution_count": null,
      "outputs": []
    },
    {
      "cell_type": "code",
      "source": [
        "# передадим функции open() адрес файла\n",
        "# параметр 'r' означает, что мы хотим прочитать (read) файл\n",
        "f1 = open('/content/train.csv', 'r')\n",
        "\n",
        "# метод .read() помещает весь файл в одну строку\n",
        "# выведем первые 142 символа (если параметр не указывать, выведется все содержимое)\n",
        "print(f1.read(142))\n",
        "# в конце файл необходимо закрыть\n",
        "f1.close()\n",
        "\n",
        "# снова откроем файл\n",
        "f2 = open('/content/train.csv', 'r')\n",
        "# пройдемся по нашему объекту в цикле for и параллельно создадим индекс\n",
        "for i, line in enumerate(f2):\n",
        "  # выведем строки без служебных символов по краям\n",
        "  print(line.strip())\n",
        "  # дойдя до четвертой строки, прервемся\n",
        "  if i == 3:\n",
        "    break\n",
        "\n",
        "# не забудем закрыть файл\n",
        "f2.close()"
      ],
      "metadata": {
        "colab": {
          "base_uri": "https://localhost:8080/"
        },
        "id": "daf7YjfbDioN",
        "outputId": "c4094db2-edf8-46e3-f7f2-c8a7ae213c2c"
      },
      "execution_count": 19,
      "outputs": [
        {
          "output_type": "stream",
          "name": "stdout",
          "text": [
            "PassengerId,Survived,Pclass,Name,Sex,Age,SibSp,Parch,Ticket,Fare,Cabin,Embarked\n",
            "1,0,3,\"Braund, Mr. Owen Harris\",male,22,1,0,A/5 21171,7.25,,S\n",
            "\n",
            "PassengerId,Survived,Pclass,Name,Sex,Age,SibSp,Parch,Ticket,Fare,Cabin,Embarked\n",
            "1,0,3,\"Braund, Mr. Owen Harris\",male,22,1,0,A/5 21171,7.25,,S\n",
            "2,1,1,\"Cumings, Mrs. John Bradley (Florence Briggs Thayer)\",female,38,1,0,PC 17599,71.2833,C85,C\n",
            "3,1,3,\"Heikkinen, Miss. Laina\",female,26,0,0,STON/O2. 3101282,7.925,,S\n"
          ]
        }
      ]
    },
    {
      "cell_type": "code",
      "source": [
        "# скажем Питону: \"открой файл и назови его f3\"\n",
        "with open('/content/test.csv', 'r') as f3:\n",
        "  # \"пройдись по строкам без служебных символов\"\n",
        "  for i, line in enumerate(f3):\n",
        "    print(line.strip())\n",
        "    # и \"прервись на четвертой строке\"\n",
        "    if i == 3:\n",
        "      break\n",
        "      "
      ],
      "metadata": {
        "colab": {
          "base_uri": "https://localhost:8080/"
        },
        "id": "VgM_0szuEjRE",
        "outputId": "ddc75c47-0570-430f-d7e5-b7d948a5bce0"
      },
      "execution_count": 20,
      "outputs": [
        {
          "output_type": "stream",
          "name": "stdout",
          "text": [
            "PassengerId,Pclass,Name,Sex,Age,SibSp,Parch,Ticket,Fare,Cabin,Embarked\n",
            "892,3,\"Kelly, Mr. James\",male,34.5,0,0,330911,7.8292,,Q\n",
            "893,3,\"Wilkes, Mrs. James (Ellen Needs)\",female,47,1,0,363272,7,,S\n",
            "894,2,\"Myles, Mr. Thomas Francis\",male,62,0,0,240276,9.6875,,Q\n"
          ]
        }
      ]
    },
    {
      "cell_type": "code",
      "source": [
        "# импортируем библиотеку\n",
        "import pandas as pd\n",
        "# применим функцию read_csv() и посмотрим на первые три записи файла train.csv\n",
        "train = pd.read_csv('/content/train.csv')\n",
        "train.head(3)\n",
        "\n",
        "test = pd.read_csv('/content/test.csv')\n",
        "test.head(3)\n",
        "\n",
        "####train.info()\n",
        "\n",
        "# для построения графиков воспользуемся новой для нас библиотекой seaborn\n",
        "import seaborn as sns\n",
        "\n",
        "# посмотрим насколько значим класс билета для выживания пассажира\n",
        "# с помощью x и hue мы можем уместить две категориальные переменные на одном графике\n",
        "sns.countplot(x = 'Pclass', hue = 'Survived', data = train)\n",
        "\n",
        "# кто выживал чаще, мужчины или женщины?\n",
        "sns.countplot(x = 'Sex', hue = 'Survived', data = train)\n",
        "\n",
        "# выявим пропущенные значения с помощью .isnull() и посчитаем их количество sum()\n",
        "\n",
        "\n",
        "# переменная Cabin (номер каюты), скорее всего, не является самой важной\n",
        "# избавимся от нее с помощью метода .drop()\n",
        "# (параметр axis отвечает за столбцы, inplace = True сохраняет изменения)\n",
        "\n",
        "train.drop(columns = 'Cabin', axis = 1, inplace = True)\n",
        "\n",
        "# а вот Age (возраст) точно важен, заменим пустые значения средним арифметическим\n",
        "train['Age'].fillna(train['Age'].mean(), inplace = True)\n",
        "\n",
        "# у нас остаются две пустые строки в Embarked, удалим их\n",
        "train.dropna(inplace = True)\n",
        "\n",
        "train.isnull().sum()\n",
        "\n",
        "# применим one-hot encoding к переменной Sex (пол) с помощью метода .get_dummies()\n",
        "pd.get_dummies(train['Sex']).head(3)\n",
        "\n",
        "# удалим первый столбец, он избыточен\n",
        "sex = pd.get_dummies(train['Sex'], drop_first = True)\n",
        "sex.head(3)\n",
        "\n",
        "embarked = pd.get_dummies(train['Embarked'], drop_first = True)\n",
        "pclass = pd.get_dummies(train['Pclass'], drop_first = True)\n",
        "\n",
        "train = pd.concat([train, pclass, sex, embarked], axis = 1)\n",
        "# применим функцию drop() к соответствующим столбцам\n",
        "train.drop(['PassengerId', 'Pclass', 'Name', 'Sex', 'Ticket', 'Embarked'], axis = 1, inplace = True)\n",
        "train.head(3)\n",
        "\n",
        "# импортируем класс StandardScaler\n",
        "from sklearn.preprocessing import StandardScaler\n",
        "# создадим объект этого класса\n",
        "scaler = StandardScaler()\n",
        "# выберем те столбцы, которые мы хотим масштабировать\n",
        "cols_to_scale = ['Age', 'Fare']\n",
        "# рассчитаем среднее арифметическое и СКО для масштабирования данных\n",
        "scaler.fit(train[cols_to_scale])\n",
        "# применим их\n",
        "train[cols_to_scale] = scaler.transform(train[cols_to_scale])\n",
        "# посмотрим на результат\n",
        "train.head(3)\n",
        "\n",
        "#train.columns\n",
        "\n",
        "#Index(['Survived', 'Age', 'SibSp', 'Parch', 'Fare', 2, 3, 'male', 'Q', 'S'], dtype='object')\n",
        "\n",
        "train.columns = train.columns.map(str)\n",
        "\n",
        "# поместим в X_train все кроме столбца Survived\n",
        "\n",
        "X_train = train.drop('Survived', axis = 1)\n",
        "\n",
        "# столбец 'Survived' станет нашей целевой переменной (y_train)\n",
        "\n",
        "y_train = train['Survived']\n",
        "\n",
        "X_train.head(3)\n",
        "\n",
        "# импортируем логистическую регрессию из модуля linear_model библиотеки sklearn\n",
        "from sklearn.linear_model import LogisticRegression\n",
        "# создадим объект этого класса и запишем его в переменную model\n",
        "model = LogisticRegression()\n",
        "# обучим нашу модель\n",
        "model.fit(X_train, y_train)\n",
        "\n",
        "LogisticRegression()\n",
        "\n",
        "# сделаем предсказание класса на обучающей выборке\n",
        "y_pred_train = model.predict(X_train)\n",
        "\n",
        "# построим матрицу ошибок\n",
        "from sklearn.metrics import confusion_matrix\n",
        "\n",
        "# передадим ей фактические и прогнозные значения\n",
        "conf_matrix = confusion_matrix(y_train, y_pred_train)\n",
        "\n",
        "conf_matrix_labels = pd.DataFrame(conf_matrix, columns =\n",
        "['Прогноз погиб', 'Прогноз выжил'], index = ['Факт погиб', 'Факт выжил'])\n",
        "\n",
        "\n",
        "# преобразуем в датафрейм\n",
        "conf_matrix_df = pd.DataFrame(conf_matrix)\n",
        "conf_matrix_df\n",
        "\n",
        "conf_matrix_labels\n",
        "\n",
        "\n",
        "# рассчитаем метрику accuracy вручную\n",
        "round((478 + 237)/(478 + 237 + 71 + 103), 3)\n",
        "\n",
        "# импортируем метрику accuracy из sklearn\n",
        "from sklearn.metrics import accuracy_score\n",
        "\n",
        "# так же передадим ей фактические и прогнозные значения\n",
        "model_accuracy = accuracy_score(y_train, y_pred_train)\n",
        "\n",
        "# округлим до трех знаков после запятой\n",
        "round(model_accuracy, 3)\n",
        "\n",
        "test.info()\n",
        "\n",
        "# для начала дадим датасету привычное название X_test\n",
        "X_test = test\n",
        "\n",
        "# заполним пропуски в переменных Age и Fare средним арифметическим\n",
        "X_test['Age'].fillna(test['Age'].mean(), inplace = True)\n",
        "X_test['Fare'].fillna(test['Fare'].mean(), inplace = True)\n",
        "# выполним one-hot encoding категориальных переменных\n",
        "sex = pd.get_dummies(X_test['Sex'], drop_first = True)\n",
        "embarked = pd.get_dummies(X_test['Embarked'], drop_first = True)\n",
        "pclass = pd.get_dummies(X_test['Pclass'], drop_first = True)\n",
        "# присоединим новые столбцы к исходному датафрейму\n",
        "X_test = pd.concat([test, pclass, sex, embarked], axis = 1)\n",
        "# и удалим данные, которые теперь не нужны\n",
        "X_test.drop(['PassengerId', 'Pclass', 'Name', 'Sex', 'Cabin', 'Ticket', 'Embarked'], axis = 1, inplace = True)\n",
        "# посмотрим на результат\n",
        "X_test.head(3)\n",
        "\n",
        "# применим среднее арифметическое и СКО обучающей выборки для масштабирования тестовых данных\n",
        "X_test[cols_to_scale] = scaler.transform(X_test[cols_to_scale])\n",
        "X_test.head(3)\n",
        "\n",
        "X_test.columns = X_test.columns.map(str)\n",
        "y_pred_test = model.predict(X_test)\n",
        "\n",
        "# посмотрим на первые 10 прогнозных значений\n",
        "y_pred_test[:10]\n",
        "\n",
        "# файл с примером можно загрузить не с локального компьютера, а из Интернета\n",
        "url = 'https://www.dmitrymakarov.ru/wp-content/uploads/2021/11/titanic_example.csv'\n",
        "\n",
        "# просто поместим его url в функцию read_csv()\n",
        "example = pd.read_csv(url)\n",
        "example.head(3)\n",
        "# возьмем индекс пассажиров из столбца PassengerId тестовой выборки\n",
        "\n",
        "ids = test['PassengerId']\n",
        "\n",
        "# создадим датафрейм из словаря, в котором\n",
        "# первая пара ключа и значения - это id пассажира, вторая - прогноз \"на тесте\"\n",
        "\n",
        "result = pd.DataFrame({'PassengerId': ids, 'Survived': y_pred_test})\n",
        "# посмотрим, что получилось\n",
        "result.head()\n",
        "\n",
        "# создадим новый файл result.csv с помощью функции to_csv(), удалив при этом индекс\n",
        "result.to_csv('result.csv', index = False)\n",
        "\n",
        "# файл будет сохранен в 'Сессионном хранилище' и, если все пройдет успешно, выведем следующий текст:\n",
        "print('Файл успешно сохранился в сессионное хранилище!')\n",
        "\n",
        "# применим метод .download() объекта files\n",
        "files.download('/content/result.csv')\n",
        "\n"
      ],
      "metadata": {
        "colab": {
          "base_uri": "https://localhost:8080/",
          "height": 609
        },
        "id": "1-yizb23E_kT",
        "outputId": "137d791c-c314-4645-a288-f1c4fd7f920a"
      },
      "execution_count": 63,
      "outputs": [
        {
          "output_type": "stream",
          "name": "stdout",
          "text": [
            "<class 'pandas.core.frame.DataFrame'>\n",
            "RangeIndex: 418 entries, 0 to 417\n",
            "Data columns (total 11 columns):\n",
            " #   Column       Non-Null Count  Dtype  \n",
            "---  ------       --------------  -----  \n",
            " 0   PassengerId  418 non-null    int64  \n",
            " 1   Pclass       418 non-null    int64  \n",
            " 2   Name         418 non-null    object \n",
            " 3   Sex          418 non-null    object \n",
            " 4   Age          332 non-null    float64\n",
            " 5   SibSp        418 non-null    int64  \n",
            " 6   Parch        418 non-null    int64  \n",
            " 7   Ticket       418 non-null    object \n",
            " 8   Fare         417 non-null    float64\n",
            " 9   Cabin        91 non-null     object \n",
            " 10  Embarked     418 non-null    object \n",
            "dtypes: float64(2), int64(4), object(5)\n",
            "memory usage: 36.0+ KB\n",
            "Файл успешно сохранился в сессионное хранилище!\n"
          ]
        },
        {
          "output_type": "display_data",
          "data": {
            "text/plain": [
              "<IPython.core.display.Javascript object>"
            ],
            "application/javascript": [
              "\n",
              "    async function download(id, filename, size) {\n",
              "      if (!google.colab.kernel.accessAllowed) {\n",
              "        return;\n",
              "      }\n",
              "      const div = document.createElement('div');\n",
              "      const label = document.createElement('label');\n",
              "      label.textContent = `Downloading \"${filename}\": `;\n",
              "      div.appendChild(label);\n",
              "      const progress = document.createElement('progress');\n",
              "      progress.max = size;\n",
              "      div.appendChild(progress);\n",
              "      document.body.appendChild(div);\n",
              "\n",
              "      const buffers = [];\n",
              "      let downloaded = 0;\n",
              "\n",
              "      const channel = await google.colab.kernel.comms.open(id);\n",
              "      // Send a message to notify the kernel that we're ready.\n",
              "      channel.send({})\n",
              "\n",
              "      for await (const message of channel.messages) {\n",
              "        // Send a message to notify the kernel that we're ready.\n",
              "        channel.send({})\n",
              "        if (message.buffers) {\n",
              "          for (const buffer of message.buffers) {\n",
              "            buffers.push(buffer);\n",
              "            downloaded += buffer.byteLength;\n",
              "            progress.value = downloaded;\n",
              "          }\n",
              "        }\n",
              "      }\n",
              "      const blob = new Blob(buffers, {type: 'application/binary'});\n",
              "      const a = document.createElement('a');\n",
              "      a.href = window.URL.createObjectURL(blob);\n",
              "      a.download = filename;\n",
              "      div.appendChild(a);\n",
              "      a.click();\n",
              "      div.remove();\n",
              "    }\n",
              "  "
            ]
          },
          "metadata": {}
        },
        {
          "output_type": "display_data",
          "data": {
            "text/plain": [
              "<IPython.core.display.Javascript object>"
            ],
            "application/javascript": [
              "download(\"download_6bf2a6bb-beff-4982-8c51-44029cde742c\", \"result.csv\", 2839)"
            ]
          },
          "metadata": {}
        },
        {
          "output_type": "display_data",
          "data": {
            "text/plain": [
              "<Figure size 432x288 with 1 Axes>"
            ],
            "image/png": "[encoded data removed]"
          },
          "metadata": {
            "needs_background": "light"
          }
        }
      ]
    }
  ]
}